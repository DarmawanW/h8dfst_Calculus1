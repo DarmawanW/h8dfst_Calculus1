{
 "cells": [
  {
   "cell_type": "markdown",
   "source": [
    "Pada tugas ini kami akan melakukan turunan untuk fungsi:\r\n",
    "$$y = x^2 + 2x + 1\\;$$\r\n",
    "$$y = 4x^3 - 3x^2 + 2x + 1\\;$$ \r\n",
    "Sebelum melakukan perhitungan pada python, kami akan melakukan perhitungan secara manual terlebih dahulu\r\n"
   ],
   "metadata": {}
  },
  {
   "cell_type": "markdown",
   "source": [
    "Untuk perhitungan turunan fungsi pertama\r\n",
    "$$y = x^2 + 2x + 1\\;$$\r\n",
    "Perhitungan turunan dilakukan dengan cara mengkalikan koefisien dengan nilai pangkat dan mengurangi nilai pangkat dengan 1\r\n",
    "$$2x^{2-1} + 2x^{1-1}\\;$$\r\n",
    "atau dapat ditulis menjadi\r\n",
    "$$2x + 2\\;$$\r\n",
    "\r\n"
   ],
   "metadata": {}
  },
  {
   "cell_type": "markdown",
   "source": [
    "Untuk perhitungan turunan fungsi kedua\r\n",
    "$$y = 4x^3 - 3x^2 + 2x + 1\\;$$ \r\n",
    "Perhitungan turunan dilakukan dengan cara mengkalikan koefisien dengan nilai pangkat dan mengurangi nilai pangkat dengan 1\r\n",
    "$$(4*3)x^{3-1} - (3*2)x^{2-1} + 2x^{1-1}\\;$$\r\n",
    "atau dapat ditulis menjadi\r\n",
    "$$12x^2 - 6x + 2\\;$$\r\n",
    "\r\n",
    "Kemudian setelah ini kami akan melakukan perhitungan turunan untuk kedua fungsi diatas menggunakan python"
   ],
   "metadata": {}
  },
  {
   "cell_type": "code",
   "execution_count": 2,
   "source": [
    "#Berikut ini adalah proses import library yang digunakan, yaitu sympy dan numpy\r\n",
    "import sympy as sy\r\n",
    "import numpy as np"
   ],
   "outputs": [],
   "metadata": {}
  },
  {
   "cell_type": "code",
   "execution_count": 3,
   "source": [
    "x=sy.Symbol('x',real = True)    #Mendefinisikan x sebagai sebuah symbol\r\n",
    "f1 = x**2+2*x+1                 #Mendefinisikan fungsi 1 yang akan dilakukan perhitungan turunannya\r\n",
    "f1.diff(x)                      #Melakukan proses perhitungan turunan dengan fungsi .diff"
   ],
   "outputs": [
    {
     "output_type": "execute_result",
     "data": {
      "text/plain": [
       "2*x + 2"
      ],
      "text/latex": [
       "$\\displaystyle 2 x + 2$"
      ]
     },
     "metadata": {},
     "execution_count": 3
    }
   ],
   "metadata": {}
  },
  {
   "cell_type": "code",
   "execution_count": 4,
   "source": [
    "f2=4*x**3-3*x**2+2*x-1      #Mendefinisikan fungsi 1 yang akan dilakukan perhitungan turunannya\r\n",
    "f2.diff(x)                  #Melakukan proses perhitungan turunan dengan fungsi .diff"
   ],
   "outputs": [
    {
     "output_type": "execute_result",
     "data": {
      "text/plain": [
       "12*x**2 - 6*x + 2"
      ],
      "text/latex": [
       "$\\displaystyle 12 x^{2} - 6 x + 2$"
      ]
     },
     "metadata": {},
     "execution_count": 4
    }
   ],
   "metadata": {}
  },
  {
   "cell_type": "markdown",
   "source": [
    "Kesimpulan : dari hasil perhitungan turunan untuk kedua fungsi diatas, baik yang dilakukan secara manual maupun menggunakan pyton memiliki hasil yang sama"
   ],
   "metadata": {}
  }
 ],
 "metadata": {
  "orig_nbformat": 4,
  "language_info": {
   "name": "python",
   "version": "3.8.8",
   "mimetype": "text/x-python",
   "codemirror_mode": {
    "name": "ipython",
    "version": 3
   },
   "pygments_lexer": "ipython3",
   "nbconvert_exporter": "python",
   "file_extension": ".py"
  },
  "kernelspec": {
   "name": "python3",
   "display_name": "Python 3.8.8 64-bit ('base': conda)"
  },
  "interpreter": {
   "hash": "6f5a3333282cc3cade2967a8d6ad94d5be3d1b19105904835c796cab9a1eb63b"
  }
 },
 "nbformat": 4,
 "nbformat_minor": 2
}